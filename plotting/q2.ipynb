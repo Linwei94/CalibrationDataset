{
 "cells": [
  {
   "cell_type": "code",
   "execution_count": null,
   "id": "initial_id",
   "metadata": {
    "collapsed": true
   },
   "outputs": [],
   "source": [
    "import numpy as np\n",
    "import pandas as pd\n",
    "import seaborn as sns\n",
    "import matplotlib.pyplot as plt\n",
    "\n",
    "cifar10_tss = pd.read_csv(\"./cifar10_tss.csv\")\n",
    "cifar10_tss = cifar10_tss.sort_values('acc')\n",
    "\n",
    "columns_to_consider = ['acc', 'pre_ECE_em_15','pre_KSCE', 'pre_MMCE', 'pgd_Linf_acc1_0', \"aa_square_Linf_acc1_0\", 'shot_noise', 'frost', 'glass_blur', 'snow', 'auc_cifar10c', 'auc_svhn']\n",
    "\n",
    "# Calculate Kendall rankings for different top accuracy points\n",
    "top_accuracies = np.arange(1000, 15626, 1000)\n",
    "kendall_rankings = []\n",
    "\n",
    "for top_acc in top_accuracies:\n",
    "    df = cifar10_tss.head(top_acc)\n",
    "    selected_df = df[['pre_ECE_15'] + columns_to_consider]\n",
    "    kendall_matrix = selected_df.corr(method='kendall')\n",
    "\n",
    "    kendall_rankings.append(kendall_matrix.loc['pre_ECE_15', columns_to_consider].values)\n",
    "\n",
    "kendall_rankings_df_ece = pd.DataFrame(kendall_rankings, columns=columns_to_consider, index=top_accuracies)\n",
    "fontsize = 16\n",
    "# Create a line plot using Seaborn\n",
    "plt.figure(figsize=(10, 6))\n",
    "sns.lineplot(data=kendall_rankings_df_ece)\n",
    "plt.xlabel(\"Population\", fontsize=fontsize)\n",
    "plt.ylabel(\"Kendall Ranking Correlation\", fontsize=fontsize)\n",
    "plt.tick_params(axis='x', labelsize=fontsize)\n",
    "plt.tick_params(axis='y', labelsize=fontsize)\n",
    "# plt.title(\"Kendall Ranking vs. Top Accuracy Points\")\n",
    "plt.legend(title=\"Metrics\", loc=\"upper left\", bbox_to_anchor=(1, 1), fontsize=14)\n",
    "\n",
    "plt.savefig(\"cifar10_ece_lineplot.pdf\", dpi=1000, format='pdf', bbox_inches='tight')\n",
    "plt.show()"
   ]
  }
 ],
 "metadata": {
  "kernelspec": {
   "display_name": "Python 3",
   "language": "python",
   "name": "python3"
  },
  "language_info": {
   "codemirror_mode": {
    "name": "ipython",
    "version": 2
   },
   "file_extension": ".py",
   "mimetype": "text/x-python",
   "name": "python",
   "nbconvert_exporter": "python",
   "pygments_lexer": "ipython2",
   "version": "2.7.6"
  }
 },
 "nbformat": 4,
 "nbformat_minor": 5
}
