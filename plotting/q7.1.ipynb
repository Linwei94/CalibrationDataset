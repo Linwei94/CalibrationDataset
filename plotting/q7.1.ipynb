{
 "cells": [
  {
   "cell_type": "code",
   "execution_count": 1,
   "metadata": {},
   "outputs": [
    {
     "name": "stderr",
     "output_type": "stream",
     "text": [
      "/tmp/ipykernel_2347140/575197200.py:13: SettingWithCopyWarning: \n",
      "A value is trying to be set on a copy of a slice from a DataFrame.\n",
      "Try using .loc[row_indexer,col_indexer] = value instead\n",
      "\n",
      "See the caveats in the documentation: https://pandas.pydata.org/pandas-docs/stable/user_guide/indexing.html#returning-a-view-versus-a-copy\n",
      "  plot_df['arch_sum'] = plot_df['arch'].apply(lambda x: sum(int(i) for i in x.split(':')))\n"
     ]
    },
    {
     "data": {
      "image/png": "[encoded data removed]",
      "text/plain": [
       "<Figure size 432x432 with 1 Axes>"
      ]
     },
     "metadata": {
      "needs_background": "light"
     },
     "output_type": "display_data"
    }
   ],
   "source": [
    "import pandas as pd\n",
    "df = pd.read_csv('../../calibration-study/ImageNet_sss.csv')\n",
    "\n",
    "\n",
    "bins = ['5', '10', '15', '20', '25', '50', '100', '200', '500']\n",
    "columns_to_keep = [f'pre_ECE_{bin}' for bin in bins]\n",
    "columns_to_keep.append('arch')\n",
    "columns_to_keep.append('acc')\n",
    "\n",
    "# Filter the DataFrame based on these column names\n",
    "plot_df = df[[col for col in df.columns if col in columns_to_keep]]\n",
    "\n",
    "plot_df['arch_sum'] = plot_df['arch'].apply(lambda x: sum(int(i) for i in x.split(':')))\n",
    "\n",
    "plot_df = plot_df[['pre_ECE_15','acc','arch_sum']]\n",
    "plot_df.columns = ['ECE_15','Accuracy','arch']\n",
    "\n",
    "\n",
    "\n",
    "import pandas as pd\n",
    "import numpy as np\n",
    "import seaborn as sns\n",
    "import matplotlib.pyplot as plt\n",
    "\n",
    "# Define the bins and the labels for the bins\n",
    "bins = np.arange(40, 360, 40)  # this creates an array [40, 80, 120, ..., 320]\n",
    "labels = ['40-80', '80-120', '120-160', '160-200', '200-240', '240-280', '280-320']\n",
    "\n",
    "# Add a new column 'arch_bins' to your DataFrame based on 'arch'\n",
    "plot_df['arch_bins'] = pd.cut(plot_df['arch'], bins=bins, labels=labels, include_lowest=True)\n",
    "\n",
    "# Set the plot style and create a new figure\n",
    "sns.set(style=\"whitegrid\")\n",
    "plt.figure(figsize=(6, 6))\n",
    "\n",
    "# Create a box plot\n",
    "sns.boxplot(x='arch_bins', y='ECE_15', data=plot_df,\n",
    "            boxprops=dict(facecolor='white', edgecolor='black', linewidth=1),\n",
    "            capprops=dict(color='black', linewidth=1),\n",
    "            whiskerprops=dict(color='black', linewidth=1),\n",
    "            medianprops=dict(color='black', linewidth=1),\n",
    "            flierprops=dict(markeredgecolor='black', markerfacecolor='black', markersize=5))\n",
    "\n",
    "# Set the plot title and axis labels\n",
    "\n",
    "plt.xlabel(\"Arch\", fontsize=12)\n",
    "plt.ylabel(\"ECE_15\", fontsize=12)\n",
    "\n",
    "# Show the plot\n",
    "plt.show()"
   ]
  },
  {
   "cell_type": "code",
   "execution_count": null,
   "metadata": {},
   "outputs": [],
   "source": []
  }
 ],
 "metadata": {
  "kernelspec": {
   "display_name": "pytorch",
   "language": "python",
   "name": "python3"
  },
  "language_info": {
   "codemirror_mode": {
    "name": "ipython",
    "version": 3
   },
   "file_extension": ".py",
   "mimetype": "text/x-python",
   "name": "python",
   "nbconvert_exporter": "python",
   "pygments_lexer": "ipython3",
   "version": "3.9.0"
  }
 },
 "nbformat": 4,
 "nbformat_minor": 2
}
