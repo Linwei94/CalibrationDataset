{
 "cells": [
  {
   "cell_type": "code",
   "execution_count": null,
   "id": "initial_id",
   "metadata": {
    "collapsed": true
   },
   "outputs": [],
   "source": [
    "import pandas as pd\n",
    "import numpy as np\n",
    "from others.robustness_dataset import RobustnessDataset\n",
    "\n",
    "# Load the data into a pandas DataFrame\n",
    "df = pd.read_csv(\"../cifar10_tss.csv\")\n",
    "df.sort_values(by='acc', ascending=False, inplace=True)\n",
    "df.reset_index()\n",
    "df = df.head(1200)\n",
    "print(df.columns)\n",
    "\n",
    "data = RobustnessDataset(path=\"robustness-dataset\")\n",
    "edge_1 = []\n",
    "for idx in df.index:\n",
    "    arch = data.id_to_string(int(idx))\n",
    "    print(arch)\n",
    "    edge_1.append(arch.split('+')[2][1:-1].split(\"|\")[0])\n",
    "    # print(edge_1)\n",
    "df[\"edge1\"] = edge_1\n"
   ]
  },
  {
   "cell_type": "code",
   "execution_count": null,
   "outputs": [],
   "source": [
    "\n",
    "import pandas as pd\n",
    "import seaborn as sns\n",
    "import matplotlib.pyplot as plt\n",
    "from matplotlib import ticker\n",
    "sns.set(style=\"whitegrid\")\n",
    "sns.set(font_scale=1.4)\n",
    "df_all = pd.read_csv(\"../cifar10_tss.csv\")\n",
    "# df_all.sort_values(by='acc', ascending=False, inplace=True)\n",
    "# df_all.reset_index()\n",
    "df_high_acc = df_all[df_all['acc'] > 0.9]\n",
    "\n",
    "# df_top1200 = df_all.head(1200)\n",
    "\n",
    "fontsize = 22\n",
    "legend_title_fontsize = 12\n",
    "red_map = sns.color_palette(\"Blues\", as_cmap=True)\n",
    "\n",
    "fig, ax = plt.subplots(1, 2, figsize=(15, 6))\n",
    "tick_fontsize = 16\n",
    "# Scatter plot with top 1200 points\n",
    "sns.scatterplot(x=\"pre_ECE_15\", y=\"acc\", hue=\"auc_cifar10c\", data=df_high_acc, ax=ax[0], linewidth=0, palette=red_map)\n",
    "ax[0].set_xlabel(\"ECE(%)\", fontsize=fontsize)\n",
    "ax[0].set_ylabel(\"Accuracy(%)\", fontsize=fontsize)\n",
    "ax[0].legend(title=\"CIFAR-10-C AUC\", title_fontsize=legend_title_fontsize)\n",
    "ax[0].set_yticks(np.arange(0.9, 0.945, 0.01))\n",
    "\n",
    "# Scatter plot with all points\n",
    "scatter_plot = sns.scatterplot(x=\"pre_ECE_15\", y=\"acc\", hue=\"auc_cifar10c\", data=df_all, ax=ax[1], linewidth=0, palette=red_map)\n",
    "ax[1].set_xlabel(\"ECE(%)\", fontsize=fontsize)\n",
    "ax[1].set_ylabel(\"Accuracy(%)\", fontsize=fontsize)\n",
    "ax[1].legend(title=\"CIFAR-10-C AUC\", title_fontsize=legend_title_fontsize)\n",
    "scatter_plot.set_ylim(0.4, 0.95)\n",
    "\n",
    "formatter_1 = ticker.FuncFormatter(lambda x, _: f'{x*100:.1f}')\n",
    "formatter_2 = ticker.FuncFormatter(lambda x, _: f'{x*100:.0f}')\n",
    "y_formatter = ticker.FuncFormatter(lambda x, _: f'{x*100:.0f}%')\n",
    "\n",
    "\n",
    "for i, axes in enumerate(ax):\n",
    "    if i == 0:\n",
    "        axes.xaxis.set_major_formatter(formatter_1)\n",
    "    else:\n",
    "        axes.xaxis.set_major_formatter(formatter_2)\n",
    "    axes.yaxis.set_major_formatter(y_formatter)\n",
    "    axes.tick_params(axis='both', labelsize=tick_fontsize)\n",
    "\n",
    "plt.tight_layout()\n",
    "plt.savefig('./ood_auroc_withece.pdf', dpi=1000)\n",
    "plt.show()\n"
   ],
   "metadata": {
    "collapsed": false
   },
   "id": "bdfd808ebeb5a19f"
  }
 ],
 "metadata": {
  "kernelspec": {
   "display_name": "Python 3",
   "language": "python",
   "name": "python3"
  },
  "language_info": {
   "codemirror_mode": {
    "name": "ipython",
    "version": 2
   },
   "file_extension": ".py",
   "mimetype": "text/x-python",
   "name": "python",
   "nbconvert_exporter": "python",
   "pygments_lexer": "ipython2",
   "version": "2.7.6"
  }
 },
 "nbformat": 4,
 "nbformat_minor": 5
}
